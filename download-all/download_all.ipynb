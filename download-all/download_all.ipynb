{
 "cells": [
  {
   "cell_type": "code",
   "execution_count": null,
   "metadata": {},
   "outputs": [],
   "source": [
    "# Import standard libraries\n",
    "import json\n",
    "import os.path\n",
    "import pandas as pd\n",
    "import sqlite3\n",
    "import sys\n",
    "import fac as f"
   ]
  },
  {
   "cell_type": "code",
   "execution_count": null,
   "metadata": {},
   "outputs": [],
   "source": [
    "# Load the config for the FAC API.\n",
    "# You need a file in this directory called 'config.json'\n",
    "# It needs to look like this:\n",
    "# {\n",
    "#    \"FAC_API_KEY\": \"YOUR-KEY-HERE\",\n",
    "#    \"DATA_DIR\": \"data\"\n",
    "# }\n",
    "config = json.load(open(\"config.json\", \"r\"))"
   ]
  },
  {
   "cell_type": "code",
   "execution_count": null,
   "metadata": {},
   "outputs": [],
   "source": [
    "client = f.FAC()\n",
    "client.api_key(config[\"FAC_API_KEY\"])\n",
    "endpoints = [\"additional_ueis\", \"additional_eins\", \"general\", \"findings\", \"federal_awards\"]"
   ]
  },
  {
   "cell_type": "code",
   "execution_count": null,
   "metadata": {},
   "outputs": [],
   "source": [
    "def build_datapath(filename):\n",
    "    return os.path.join(config[\"DATA_DIR\"], filename)"
   ]
  },
  {
   "cell_type": "code",
   "execution_count": null,
   "metadata": {},
   "outputs": [],
   "source": [
    "# Takes around 93m to run, first time.\n",
    "for ep in endpoints:\n",
    "    ep_json_filepath = build_datapath(f\"{ep}.json\")\n",
    "    # If there is no JSON file for this table, go ahead and do the download.\n",
    "    if not os.path.isfile(ep_json_filepath):\n",
    "        client.endpoint(ep)\n",
    "        client.fetch()\n",
    "        with open(ep_json_filepath, 'w', encoding='utf-8') as f:\n",
    "            json.dump(client.results(), f, ensure_ascii=False, indent=2)\n",
    "\n",
    "# Write the metadata\n",
    "metadata_filepath = build_datapath(\"metadata.json\")\n",
    "if not os.path.isfile(metadata_filepath):\n",
    "    with open(metadata_filepath, 'w', encoding='utf-8') as f:\n",
    "        json.dump(client.metadata(), f, ensure_ascii=False, indent=2)"
   ]
  },
  {
   "cell_type": "code",
   "execution_count": null,
   "metadata": {},
   "outputs": [],
   "source": [
    "conn = sqlite3.connect(build_datapath(\"fac.sqlite\"))\n",
    "\n",
    "# Create tables\n",
    "\n",
    "for ep in endpoints:\n",
    "    ep_json_filepath = build_datapath(f\"{ep}.json\")\n",
    "    with open(ep_json_filepath, 'r') as f:\n",
    "        data = json.load(f)\n",
    "        # Use the first object to create the table\n",
    "        fields = data[0].keys()\n",
    "        fields_with_commas = \",\".join(map(lambda f: f\"{f} TEXT\", fields))\n",
    "        stmt = f\"CREATE TABLE IF NOT EXISTS {ep} ({fields_with_commas})\"\n",
    "        print(stmt)\n",
    "        conn.execute(stmt)\n",
    "        conn.commit()\n"
   ]
  },
  {
   "cell_type": "code",
   "execution_count": null,
   "metadata": {},
   "outputs": [],
   "source": [
    "# Load the data\n",
    "for ep in endpoints:\n",
    "    fname = ep_json_filepath = build_datapath(f\"{ep}.json\")\n",
    "    with open(fname, 'r') as f:\n",
    "        print(f\"Loading {fname}\")\n",
    "        jsn = json.load(f)\n",
    "        print(f\"Converting to dataframe: {len(jsn)} records\")\n",
    "        df = pd.DataFrame.from_records(jsn)\n",
    "        print(f\"Inserting\")\n",
    "        df.to_sql(ep, \n",
    "                  con=conn, \n",
    "                  if_exists='append', \n",
    "                  index=False)"
   ]
  },
  {
   "cell_type": "code",
   "execution_count": null,
   "metadata": {},
   "outputs": [],
   "source": [
    "# Close the connection\n",
    "conn.close()\n",
    "client.metadata()"
   ]
  }
 ],
 "metadata": {
  "kernelspec": {
   "display_name": ".venv",
   "language": "python",
   "name": "python3"
  },
  "language_info": {
   "codemirror_mode": {
    "name": "ipython",
    "version": 3
   },
   "file_extension": ".py",
   "mimetype": "text/x-python",
   "name": "python",
   "nbconvert_exporter": "python",
   "pygments_lexer": "ipython3",
   "version": "3.10.12"
  }
 },
 "nbformat": 4,
 "nbformat_minor": 2
}
